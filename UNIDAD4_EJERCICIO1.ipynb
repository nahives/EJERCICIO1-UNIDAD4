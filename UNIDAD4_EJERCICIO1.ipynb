{
  "nbformat": 4,
  "nbformat_minor": 0,
  "metadata": {
    "colab": {
      "provenance": [],
      "authorship_tag": "ABX9TyM/SEdcJBbDR0/SJ9d0Axbx",
      "include_colab_link": true
    },
    "kernelspec": {
      "name": "python3",
      "display_name": "Python 3"
    },
    "language_info": {
      "name": "python"
    }
  },
  "cells": [
    {
      "cell_type": "markdown",
      "metadata": {
        "id": "view-in-github",
        "colab_type": "text"
      },
      "source": [
        "<a href=\"https://colab.research.google.com/github/nahives/EJERCICIO1-UNIDAD4/blob/main/UNIDAD4_EJERCICIO1.ipynb\" target=\"_parent\"><img src=\"https://colab.research.google.com/assets/colab-badge.svg\" alt=\"Open In Colab\"/></a>"
      ]
    },
    {
      "cell_type": "markdown",
      "source": [
        "Una revision de los pesos de 500 estudiantes del ITD, evidenció que la media es de 70 kilogramos y la desviacion estandar es de 4 kilogramos. Suponiendo que los valores se distribuyen normalmente. Hallar lo siguiente:\n",
        "\n",
        "La probabilidad de estudiantes que pesan mas de 68 y menos de 72 kg.\n",
        "Cuantos estudiantes pesan mas de 68 y menos de 72 kg"
      ],
      "metadata": {
        "id": "oG2O2G5x8yUE"
      }
    },
    {
      "cell_type": "code",
      "execution_count": 2,
      "metadata": {
        "colab": {
          "base_uri": "https://localhost:8080/"
        },
        "id": "FCkY29iK8hBc",
        "outputId": "03656a5e-d59f-4ab7-de56-8dabd20fe161"
      },
      "outputs": [
        {
          "output_type": "stream",
          "name": "stdout",
          "text": [
            "La probabilidad de estudiantes que pesan más de 68 y menos de 72 kg es: 0.38292492254802624\n",
            "El número de estudiantes que pesan más de 68 y menos de 72 kg es aproximadamente: 191\n"
          ]
        }
      ],
      "source": [
        "from scipy.stats import norm\n",
        "\n",
        "# Parámetros\n",
        "media = 70\n",
        "desviacion_estandar = 4\n",
        "\n",
        "# Calcular probabilidad acumulativa hasta 72 kg\n",
        "prob_72 = norm.cdf(72, media, desviacion_estandar)\n",
        "\n",
        "# Calcular probabilidad acumulativa hasta 68 kg\n",
        "prob_68 = norm.cdf(68, media, desviacion_estandar)\n",
        "\n",
        "# Calcular la probabilidad de estudiantes que pesan más de 68 kg y menos de 72 kg\n",
        "probabilidad = prob_72 - prob_68\n",
        "\n",
        "print(\"La probabilidad de estudiantes que pesan más de 68 y menos de 72 kg es:\", probabilidad)\n",
        "\n",
        "# Para calcular cuántos estudiantes pesan más de 68 y menos de 72 kg de una muestra de 500 estudiantes,\n",
        "# simplemente multiplicamos la probabilidad por el número total de estudiantes\n",
        "total_estudiantes = 500\n",
        "estudiantes_en_rango = probabilidad * total_estudiantes\n",
        "\n",
        "print(\"El número de estudiantes que pesan más de 68 y menos de 72 kg es aproximadamente:\", round(estudiantes_en_rango))\n",
        "\n"
      ]
    }
  ]
}